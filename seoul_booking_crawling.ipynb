{
 "cells": [
  {
   "cell_type": "code",
   "execution_count": 5,
   "metadata": {},
   "outputs": [],
   "source": [
    "import requests\n",
    "import pandas as pd\n",
    "import numpy as np\n",
    "import time\n",
    "import re\n",
    "from bs4 import BeautifulSoup\n",
    "from selenium import webdriver\n",
    "from selenium.webdriver.common.keys import Keys\n",
    "from konlpy.tag import Okt"
   ]
  },
  {
   "cell_type": "code",
   "execution_count": 6,
   "metadata": {},
   "outputs": [],
   "source": [
    "options = webdriver.ChromeOptions()\n",
    "#options.add_argument('headless')  # headless를 주면 동작하는 모습을 볼 수 없음\n",
    "options.add_argument('disable-gpu')\n",
    "options.add_argument('lang=ko_KR')\n",
    "driver = webdriver.Chrome('chromedriver', options=options)\n",
    "driver.implicitly_wait(3)"
   ]
  },
  {
   "cell_type": "code",
   "execution_count": 7,
   "metadata": {},
   "outputs": [],
   "source": [
    "url='https://www.booking.com/searchresults.ko.html?aid=376440&label=bdot-HhWTaX_r6btPip7sfrk7SQS267777897793%3Apl%3Ata%3Ap1%3Ap22%2C563%2C000%3Aac%3Aap%3Aneg%3Afi%3Atikwd-324456682700%3Alp1009871%3Ali%3Adec%3Adm%3Appccp%3DUmFuZG9tSVYkc2RlIyh9YUlRwjG4dAJkHxCuUKVzpFo&sid=3c50861874335f98b91a4a71fdc2254b&tmpl=searchresults&ac_click_type=b&ac_position=0&class_interval=1&dest_id=-716583&dest_type=city&from_sf=1&group_adults=2&group_children=0&iata=SEL&label_click=undef&no_rooms=1&raw_dest_type=city&room1=A%2CA&sb_price_type=total&search_selected=1&shw_aparth=1&slp_r_match=0&src=searchresults&srpvid=98411b83c6d80043&ss=%EC%84%9C%EC%9A%B8%2C%20%EB%8C%80%ED%95%9C%EB%AF%BC%EA%B5%AD&ss_raw=%EB%8C%80%ED%95%9C%EB%AF%BC%EA%B5%AD%20%EC%84%9C%EC%9A%B8&ssb=empty&ssne=%EB%8C%80%ED%95%9C%EB%AF%BC%EA%B5%AD&ssne_untouched=%EB%8C%80%ED%95%9C%EB%AF%BC%EA%B5%AD&top_ufis=1&nflt=class%3D3%3Bclass%3D4%3Bclass%3D5%3Bht_id%3D204%3B&percent_htype_hotel=1&rsf='"
   ]
  },
  {
   "cell_type": "code",
   "execution_count": null,
   "metadata": {},
   "outputs": [],
   "source": [
    "#seoul hotel\n",
    "\n",
    "hotel_names = []\n",
    "hotel_tourlists = []\n",
    "hotel_reviews = []\n",
    "driver.get(url)\n",
    "\n",
    "for i in range (1, 27): # 호텔수\n",
    "    try:\n",
    "        driver.find_element_by_xpath(\n",
    "        '//*[@id=\"hotellist_inner\"]/div[{0}]/div[2]/div[1]/div[1]/div[1]/h3/a/span[1]'.format(i)).click() #호텔 클릭        \n",
    "              \n",
    "        time.sleep(3.0)\n",
    "        driver.switch_to.window(driver.window_handles[1])\n",
    "        time.sleep(3.0)\n",
    "        hotel_name = driver.find_element_by_xpath('//*[@id=\"hp_hotel_name\"]').text #호텔 이름\n",
    "        print(hotel_name)\n",
    "        hotel_tourlist = driver.find_element_by_xpath(\n",
    "            '//div[@class=\"hp_location_block__content_container hp-poi-content-container--column\"]').text #명소 크롤링\n",
    "        print(hotel_tourlist)\n",
    "        try:\n",
    "            driver.find_element_by_xpath('//*[@id=\"show_reviews_tab\"]/span').click() #리뷰 더 보기 클릭\n",
    "            time.sleep(1.0)\n",
    "            driver.find_element_by_xpath(\n",
    "                '//*[@id=\"review_list_score_container\"]/div[3]/div[1]/div[2]/div/div/label[1]/span').click() #한국어 클릭\n",
    "        except:\n",
    "            continue\n",
    "        for j in range(2, 16): #리뷰 페이지\n",
    "            try:\n",
    "                for y in range(1,11):\n",
    "                    try:\n",
    "                        hotel_review = driver.find_element_by_xpath(\n",
    "                            '//*[@id=\"review_list_page_container\"]/ul/li[{0}]/div/div[4]'.format(y)).text #고객후기\n",
    "                        print(hotel_review)\n",
    "                        hotel_names.append(hotel_name)\n",
    "                        hotel_tourlists.append(hotel_tourlist)\n",
    "                        hotel_reviews.append(hotel_review)\n",
    "                    except:\n",
    "                        print('g')\n",
    "                driver.find_element_by_xpath('//*[@id=\"review_list_page_container\"]/div[4]/div/div[1]/div/div[3]').click() #다음버튼 클릭\n",
    "                time.sleep(3.0)\n",
    "            except:\n",
    "                print('E')\n",
    "                continue\n",
    "        driver.close()\n",
    "        driver.switch_to.window(driver.window_handles[0])\n",
    "\n",
    "    except:\n",
    "        print('d')\n",
    "        continue\n",
    "driver.close()"
   ]
  },
  {
   "cell_type": "code",
   "execution_count": null,
   "metadata": {},
   "outputs": [],
   "source": [
    "df_review = pd.DataFrame({'hotel_name':hotel_names, 'hotel_review':hotel_reviews, 'hotel_tourlist':hotel_tourlists})\n",
    "df_review.head()\n",
    "#df_review.tail()\n",
    "df_review.info()"
   ]
  },
  {
   "cell_type": "code",
   "execution_count": null,
   "metadata": {},
   "outputs": [],
   "source": [
    "df_review.to_csv('./hotel_review/review_seoul.csv')"
   ]
  }
 ],
 "metadata": {
  "kernelspec": {
   "display_name": "Python 3",
   "language": "python",
   "name": "python3"
  },
  "language_info": {
   "codemirror_mode": {
    "name": "ipython",
    "version": 3
   },
   "file_extension": ".py",
   "mimetype": "text/x-python",
   "name": "python",
   "nbconvert_exporter": "python",
   "pygments_lexer": "ipython3",
   "version": "3.7.7"
  }
 },
 "nbformat": 4,
 "nbformat_minor": 4
}
